{
 "cells": [
  {
   "cell_type": "markdown",
   "metadata": {},
   "source": [
    "# Devoir Phys-F-302, 2019-2020\n",
    "\n",
    "\n",
    "\n",
    "### Steven Christopher et Antoine Bouchet"
   ]
  },
  {
   "cell_type": "markdown",
   "metadata": {},
   "source": [
    "## Question 1\n",
    "Afin de résoudre l'équation différentielle \n",
    "\n",
    "$\\frac{d^4 f}{dx^4}-5 \\frac{d^2 f}{dx^2}+ 4f = 0$   (1)\n",
    "\n",
    "Il suffit de résoudre l'équation suivante:\n",
    "\n",
    "$\\lambda^4-5\\lambda^2+4=0$  (2)\n",
    "\n",
    "La solution générale de (1) sera donnée par:\n",
    "\n",
    "$f=\\sum_i k_i e^{\\lambda_i x}$\n",
    "\n",
    "où les $k_i$ sont les constantes d'intégration et les $\\lambda_i$ sont les solutions de (2)\n",
    "Résolvons (2):\n",
    "\n",
    "$\\lambda^4-5\\lambda^2+4=(\\lambda^{2}-4)(\\lambda^{2}-1)=0$\n",
    "\n",
    "(2) a donc comme solutions $\\lambda_1=2$, $\\lambda_2=-2$, $\\lambda_3=1$ et $\\lambda_4=-1$\n",
    "\n",
    "Ceci nous donne comme solution générale pour (1): $f=k_1e^{2x}+k_2e^{-2x}+k_3e^{x}+k_4e^{-x}$"
   ]
  },
  {
   "cell_type": "markdown",
   "metadata": {},
   "source": [
    "## Question 2\n",
    "Avec les conditions aux bords, évaluer  les constantes d'intégration revient à résoudre le système d'équations suivant:\n",
    "\n",
    "$k_1+k_2+k_3+k_4e=a$\n",
    "\n",
    "$2k_1-2k_2+k_3-k_4=b$\n",
    "\n",
    "$k_1e^{2}+k_2e^{-2}+k_3e+k_4e^{-1}=c$\n",
    "\n",
    "$2k_1e^{2}-2k_2e^{-2}+k_3e-k_4e^{-1}=d$\n",
    "\n",
    "Ce système à comme solution:\n",
    "\n",
    "$k1=\\frac{(1+e+4e^2)a+(-1-e+2e^2)b-e(4+e+e^2)c+e(-2+e+e^2)d}{(e-1)^3(1+4e+e^2)}$\n",
    "   \n",
    "$k2=\\frac{e^2(-e((4+e+e^2)a+(-2+e+e^2)b)+(1+e+4e^2)c+(1+e-2^e2)d)}{(e-1)^3(1+4e+e^2)}$\n",
    "  \n",
    "$k3=\\frac{-2(1+e+e^2+3e^3)a+(1+e+e^2-3e^3)b+2e(3+e+e^2+e^3)c-e(-3+e+e^2+e^3)d}{(e-1)^3(1+4e+e^2)}$\n",
    "    \n",
    "$k4=e\\frac{2e(3+e+e^2+e^3)a+e(-3+e+e^2+e^3)b-2(1+e+e^2+3e^3)c+(-1-e-e^2+3e^3)d}{(e-1)^3(1+4e+e^2)}$\n",
    "\n",
    "Il suffit d'écrire un code qui prend a, b, c et d et implémente cette solution afin d'évaluer les constantes d'intégration."
   ]
  },
  {
   "cell_type": "code",
   "execution_count": 33,
   "metadata": {},
   "outputs": [],
   "source": [
    "import numpy as np\n",
    "def ConstantEvaluator(a,b,c,d):\n",
    "    \n",
    "    e=np.exp(1)\n",
    "    e2=np.exp(2)\n",
    "    e3=np.exp(3)\n",
    "    \n",
    "    k1=((1+e+4*e2)*a+(-1-e+2*e2)*b-e*(4+e+e2)*c+e*(-2+e+e2)*d)/((e-1)**3*(1+4*e+e2))\n",
    "   \n",
    "    k2=(e2*(-e*((4+e+e2)*a+(-2+e+e2)*b)+(1+e+4*e2)*c+(1+e-2*e2)*d))/((e-1)**3*(1+4*e+e2))\n",
    "    \n",
    "    k3=(-2*(1+e+e2+3*e3)*a+(1+e+e2-3*e3)*b+2*e*(3+e+e2+e3)*c-e*(-3+e+e2+e3)*d)/((e-1)**3*(1+4*e+e2))\n",
    "    \n",
    "    k4=e*(2*e*(3+e+e2+e3)*a+e*(-3+e+e2+e3)*b-2*(1+e+e2+3*e3)*c+(-1-e-e2+3*e3)*d)/((e-1)**3*(1+4*e+e2))\n",
    "    \n",
    "    out=[]\n",
    "    out.append(k1)\n",
    "    out.append(k2)\n",
    "    out.append(k3)\n",
    "    out.append(k4)\n",
    "    \n",
    "    \n",
    "    return out"
   ]
  },
  {
   "cell_type": "markdown",
   "metadata": {},
   "source": [
    "## Question 2\n",
    "\n",
    "Nous allons maintenant utiliser cette fonction afin de faire un graphe de la solution."
   ]
  },
  {
   "cell_type": "code",
   "execution_count": 34,
   "metadata": {},
   "outputs": [
    {
     "data": {
      "text/plain": [
       "[-0.6179392150241841,\n",
       " 3.352281437944154,\n",
       " 2.6030495415083528,\n",
       " -5.337391764428323]"
      ]
     },
     "execution_count": 34,
     "metadata": {},
     "output_type": "execute_result"
    }
   ],
   "source": [
    "ConstantEvaluator(0,0,1,-1) # On évalue les constantes d'intégration pour nos conditions au bords"
   ]
  },
  {
   "cell_type": "code",
   "execution_count": 35,
   "metadata": {},
   "outputs": [
    {
     "name": "stdout",
     "output_type": "stream",
     "text": [
      "[0.00000000e+00 4.06198103e-04 1.60911384e-03 3.58552636e-03\n",
      " 6.31260149e-03 9.76788027e-03 1.39292676e-02 1.87750210e-02\n",
      " 2.42837398e-02 3.04343538e-02 3.72061130e-02 4.45785767e-02\n",
      " 5.25316031e-02 6.10453388e-02 7.01002087e-02 7.96769060e-02\n",
      " 8.97563818e-02 1.00319836e-01 1.11348705e-01 1.22824657e-01\n",
      " 1.34729576e-01 1.47045558e-01 1.59754899e-01 1.72840084e-01\n",
      " 1.86283782e-01 2.00068831e-01 2.14178235e-01 2.28595153e-01\n",
      " 2.43302885e-01 2.58284872e-01 2.73524680e-01 2.89005992e-01\n",
      " 3.04712605e-01 3.20628413e-01 3.36737406e-01 3.53023654e-01\n",
      " 3.69471305e-01 3.86064573e-01 4.02787730e-01 4.19625096e-01\n",
      " 4.36561034e-01 4.53579938e-01 4.70666228e-01 4.87804337e-01\n",
      " 5.04978707e-01 5.22173778e-01 5.39373980e-01 5.56563725e-01\n",
      " 5.73727398e-01 5.90849348e-01 6.07913882e-01 6.24905254e-01\n",
      " 6.41807654e-01 6.58605208e-01 6.75281960e-01 6.91821868e-01\n",
      " 7.08208795e-01 7.24426500e-01 7.40458628e-01 7.56288705e-01\n",
      " 7.71900122e-01 7.87276134e-01 8.02399846e-01 8.17254206e-01\n",
      " 8.31821994e-01 8.46085816e-01 8.60028090e-01 8.73631041e-01\n",
      " 8.86876691e-01 8.99746847e-01 9.12223092e-01 9.24286778e-01\n",
      " 9.35919012e-01 9.47100652e-01 9.57812288e-01 9.68034242e-01\n",
      " 9.77746550e-01 9.86928956e-01 9.95560897e-01 1.00362150e+00\n",
      " 1.01108956e+00 1.01794355e+00 1.02416157e+00 1.02972138e+00\n",
      " 1.03460038e+00 1.03877556e+00 1.04222354e+00 1.04492051e+00\n",
      " 1.04684228e+00 1.04796420e+00 1.04826119e+00 1.04770770e+00\n",
      " 1.04627775e+00 1.04394484e+00 1.04068199e+00 1.03646173e+00\n",
      " 1.03125605e+00 1.02503640e+00 1.01777371e+00 1.00943832e+00\n",
      " 1.00000000e+00]\n"
     ]
    }
   ],
   "source": [
    "%matplotlib inline\n",
    "import matplotlib.pylab as plt\n",
    "\n",
    "k1=ConstantEvaluator(0,0,1,-1)[0]\n",
    "\n",
    "k2=ConstantEvaluator(0,0,1,-1)[1]\n",
    "\n",
    "k3=ConstantEvaluator(0,0,1,-1)[2]\n",
    "\n",
    "k4=ConstantEvaluator(0,0,1,-1)[3]\n",
    "\n",
    "def f(x): #on implémente notre solution à (1)\n",
    "    \n",
    "    out=k1*np.exp(2*x)+k2*np.exp(-2*x)+k3*np.exp(x)+k4*np.exp(-x) \n",
    "    \n",
    "    return out\n",
    "\n",
    "x= np.linspace(0,1,101)\n",
    "\n",
    "print(f(x))"
   ]
  },
  {
   "cell_type": "code",
   "execution_count": 68,
   "metadata": {},
   "outputs": [
    {
     "data": {
      "text/plain": [
       "<matplotlib.legend.Legend at 0x9124fd0>"
      ]
     },
     "execution_count": 68,
     "metadata": {},
     "output_type": "execute_result"
    },
    {
     "data": {
      "image/png": "[encoded data removed]",
      "text/plain": [
       "<Figure size 576x432 with 1 Axes>"
      ]
     },
     "metadata": {
      "needs_background": "light"
     },
     "output_type": "display_data"
    }
   ],
   "source": [
    "fig = plt.figure(figsize=(8,6))\n",
    "\n",
    "ax = fig.add_axes([0.1, 0.1, 0.8, 0.8])\n",
    "ax.plot(x, f(x), lw=4,label='Solution analytique')\n",
    "ax.set_xlabel('X')\n",
    "ax.set_ylabel('Y')\n",
    "ax.set_xlim(0,1)\n",
    "ax.set_title('Solution analytique')\n",
    "ax.grid()\n",
    "ax.legend()"
   ]
  },
  {
   "cell_type": "markdown",
   "metadata": {},
   "source": [
    "## Question 4\n",
    "\n",
    "En utilisant les differences finies on trouve : \n",
    "\n",
    "$f^2 = \\frac{(f(x+h) - 2f(x) + f(x-h)}{h^2}$\n",
    "\n",
    "$f^4$=$\\frac{f(x-2h) -4f(x-h) + 6f(x) - 4f(x+h) + f(x+2h)}{h^4}$\n",
    "\n",
    "En remplaçant dans notre équation on obtient : \n",
    "\n",
    "$f(x-2h) + f(x+2h) + (f(x+h)+f(x-h))(-4 -5h^2) + f(x)(6 + 10h^2 + 4h^4) = 0$\n",
    "\n",
    "On remplacera donc $f^{k+1}$(x) = $\\frac{f^{k+1}(x-2h) + f^k(x+2h) + (f^k(x+h)+f^{k+1}(x-h))(-4 -5h^2)}{(6 + 10h^2 + 4h^4)}$"
   ]
  },
  {
   "cell_type": "code",
   "execution_count": 37,
   "metadata": {},
   "outputs": [],
   "source": [
    "import numba\n",
    "from numba import jit\n",
    "\n",
    "def L2_rel_error(p, pn):\n",
    "    ''' Compute the relative L2 norm of the difference\n",
    "    Parameters:\n",
    "    ----------\n",
    "    p : array of float\n",
    "        array 1\n",
    "    pn: array of float\n",
    "        array 2\n",
    "    Returns:\n",
    "    -------\n",
    "    Relative L2 norm of the difference\n",
    "    '''\n",
    "    return np.sqrt(np.sum((p - pn)**2)/np.sum(pn**2))"
   ]
  },
  {
   "cell_type": "code",
   "execution_count": 38,
   "metadata": {},
   "outputs": [],
   "source": [
    "@jit(nopython=True) #on utilise numba afin d'optimiser la performance de cette fonction\n",
    "def gauss_seid(tolerance) : \n",
    "    dx = 1/100\n",
    "    x = np.linspace(0,1,101).astype(np.float32)\n",
    "    f= np.zeros(101)\n",
    "    \n",
    "    for i in range(0,101) : \n",
    "        f[i] = i/(100) #initial guess\n",
    "        \n",
    "    diff = 1.1\n",
    "    f[0]=0. #condition initiale : f(0) = 0\n",
    "    f[1]=0. #condition initiale : f'(0) = 0 \n",
    "    f[100]=1. #condition initiale : f(1) = 1\n",
    "    f[99]=101/100 # condition initiale : f(1) = -1 \n",
    "    itt = 0 #itération \n",
    "    \n",
    "    while diff > tolerance : \n",
    "        itt+=1\n",
    "        fn = f.copy()\n",
    "        for i in range(2,99):\n",
    "            f[i]=(-(f[i-2]+f[i+2]) + (f[i+1]+f[i-1])*(4+5*dx**2))/(6+10*dx**2 + 4*dx**4)\n",
    "        diff = (np.sqrt(np.sum((f - fn)**2)) / np.sqrt(np.sum(fn**2)))\n",
    "    print(itt)\n",
    "    return(f)"
   ]
  },
  {
   "cell_type": "code",
   "execution_count": 39,
   "metadata": {},
   "outputs": [
    {
     "name": "stdout",
     "output_type": "stream",
     "text": [
      "1608704\n"
     ]
    },
    {
     "data": {
      "text/plain": [
       "array([0.00000000e+00, 0.00000000e+00, 8.09682669e-04, 2.40584949e-03,\n",
       "       4.76569496e-03, 7.86679489e-03, 1.16870947e-02, 1.62048981e-02,\n",
       "       2.13988551e-02, 2.72479512e-02, 3.37314958e-02, 4.08291107e-02,\n",
       "       4.85207194e-02, 5.67865356e-02, 6.56070525e-02, 7.49630315e-02,\n",
       "       8.48354917e-02, 9.52056988e-02, 1.06055155e-01, 1.17365587e-01,\n",
       "       1.29118936e-01, 1.41297350e-01, 1.53883168e-01, 1.66858914e-01,\n",
       "       1.80207285e-01, 1.93911142e-01, 2.07953496e-01, 2.22317504e-01,\n",
       "       2.36986455e-01, 2.51943761e-01, 2.67172947e-01, 2.82657640e-01,\n",
       "       2.98381563e-01, 3.14328522e-01, 3.30482397e-01, 3.46827133e-01,\n",
       "       3.63346731e-01, 3.80025238e-01, 3.96846736e-01, 4.13795337e-01,\n",
       "       4.30855169e-01, 4.48010370e-01, 4.65245078e-01, 4.82543420e-01,\n",
       "       4.99889506e-01, 5.17267420e-01, 5.34661206e-01, 5.52054867e-01,\n",
       "       5.69432347e-01, 5.86777532e-01, 6.04074233e-01, 6.21306181e-01,\n",
       "       6.38457017e-01, 6.55510285e-01, 6.72449420e-01, 6.89257742e-01,\n",
       "       7.05918448e-01, 7.22414599e-01, 7.38729114e-01, 7.54844764e-01,\n",
       "       7.70744156e-01, 7.86409730e-01, 8.01823751e-01, 8.16968293e-01,\n",
       "       8.31825239e-01, 8.46376264e-01, 8.60602832e-01, 8.74486184e-01,\n",
       "       8.88007330e-01, 9.01147038e-01, 9.13885826e-01, 9.26203954e-01,\n",
       "       9.38081413e-01, 9.49497913e-01, 9.60432880e-01, 9.70865438e-01,\n",
       "       9.80774408e-01, 9.90138289e-01, 9.98935254e-01, 1.00714314e+00,\n",
       "       1.01473943e+00, 1.02170125e+00, 1.02800537e+00, 1.03362815e+00,\n",
       "       1.03854559e+00, 1.04273326e+00, 1.04616634e+00, 1.04881957e+00,\n",
       "       1.05066724e+00, 1.05168321e+00, 1.05184088e+00, 1.05111316e+00,\n",
       "       1.04947247e+00, 1.04689075e+00, 1.04333941e+00, 1.03878932e+00,\n",
       "       1.03321084e+00, 1.02657375e+00, 1.01884726e+00, 1.01000000e+00,\n",
       "       1.00000000e+00])"
      ]
     },
     "execution_count": 39,
     "metadata": {},
     "output_type": "execute_result"
    }
   ],
   "source": [
    "gauss_seid(10**(-8))"
   ]
  },
  {
   "cell_type": "markdown",
   "metadata": {},
   "source": [
    "Il faut 1 608 704 itérations. \n",
    "\n",
    "Comparons avec la solution de la question 3"
   ]
  },
  {
   "cell_type": "code",
   "execution_count": 75,
   "metadata": {},
   "outputs": [
    {
     "name": "stdout",
     "output_type": "stream",
     "text": [
      "1608704\n"
     ]
    },
    {
     "data": {
      "text/plain": [
       "<matplotlib.legend.Legend at 0x92260b8>"
      ]
     },
     "execution_count": 75,
     "metadata": {},
     "output_type": "execute_result"
    },
    {
     "data": {
      "image/png": "[encoded data removed]",
      "text/plain": [
       "<Figure size 576x432 with 1 Axes>"
      ]
     },
     "metadata": {
      "needs_background": "light"
     },
     "output_type": "display_data"
    }
   ],
   "source": [
    "fig = plt.figure(figsize=(8,6))\n",
    "x = np.linspace(0.0, 1.0,101)\n",
    "ax = fig.add_axes([0.1, 0.1, 0.8, 0.8])\n",
    "ax.plot(x,gauss_seid(10**(-8)), lw=4, label= 'Solution par Gauss-Seidel')\n",
    "ax.plot(x, f(x), lw=4, label='Solution analytique')\n",
    "ax.set_xlabel('X')\n",
    "ax.set_ylabel('Y')\n",
    "ax.set_xlim(0,1)\n",
    "ax.set_title('Solution par Gauss-Seidel')\n",
    "ax.grid()\n",
    "ax.legend()"
   ]
  },
  {
   "cell_type": "markdown",
   "metadata": {},
   "source": [
    "On voit que la solution par Gauss-Seidel est très proche de la solution analytique. Ceci montre que Gauss-Seidel est une méthode assez précise."
   ]
  },
  {
   "cell_type": "markdown",
   "metadata": {},
   "source": [
    "On calcule maintenant la norme L2 de la différence entre cette solutions et la solution analytique de la question 3"
   ]
  },
  {
   "cell_type": "code",
   "execution_count": 32,
   "metadata": {},
   "outputs": [
    {
     "name": "stdout",
     "output_type": "stream",
     "text": [
      "1608704\n"
     ]
    },
    {
     "data": {
      "text/plain": [
       "0.0058226576569556775"
      ]
     },
     "execution_count": 32,
     "metadata": {},
     "output_type": "execute_result"
    }
   ],
   "source": [
    "L2_rel_error(gauss_seid(10**(-8)), f(x))"
   ]
  },
  {
   "cell_type": "markdown",
   "metadata": {},
   "source": [
    "On voit une assez bonne précision avec la norme L2 également"
   ]
  },
  {
   "cell_type": "markdown",
   "metadata": {},
   "source": [
    "## Question 5\n",
    "\n",
    "On commence en définissant un opérateur A correspondant à l'équation (1) en utilisant les différences finies"
   ]
  },
  {
   "cell_type": "code",
   "execution_count": 24,
   "metadata": {},
   "outputs": [],
   "source": [
    "def A(f,dx=0.01): #Donne l'opérateur linéaire correspondant à notre EDO\n",
    "    \n",
    "    \n",
    "    \n",
    "    return (f[:-4]-4*f[1:-3]+6*f[2:-2]-4*f[3:-1]+f[4:])/dx**4-5*(f[1:-3]-2*f[2:-2]+f[3:-1])/dx**2+4*f[2:-2]"
   ]
  },
  {
   "cell_type": "markdown",
   "metadata": {},
   "source": [
    "Afin d'implémenter les conditions au bord de Neumann (celles de dirichlet sont automatiquement appliquées) nous utilisons les différences finies suivantes:\n",
    "\n",
    "$f'(x)=\\frac{0.5f(x-2h)-f(x-h)+1.5f(x)}{h}$\n",
    "\n",
    "$f'(x)=\\frac{-0.5f(x+2h)+f(x+h)-1.5f(x)}{h}$\n",
    "\n",
    "Ceci nous donne dans notre cas:\n",
    "\n",
    "$f'[0]=0=\\frac{-0.5f[2]+f[1]-1.5f[0]}{dx}=\\frac{-0.5f[2]+f[1]}{dx}$\n",
    "\n",
    "$f'[100]=-1=\\frac{0.5f[98]-f[99]+1.5f[100]}{dx}=\\frac{0.5f[98]-f[99]+1.5}{dx}$\n",
    "\n",
    "Le code qu'on implémente ci-dessous (basé sur le code  pour gradients conjugués vu en cours) utilisera ces conditions sur la direction de recherche des gradients conjugués.\n"
   ]
  },
  {
   "cell_type": "code",
   "execution_count": 27,
   "metadata": {},
   "outputs": [],
   "source": [
    "def ConjugateGradient(p,dx,maxiter,rtol):\n",
    "    r=np.zeros_like(p)\n",
    "    Ad=np.zeros_like(p)\n",
    "    diff=1+rtol\n",
    "    iterations=0\n",
    "\n",
    "    \n",
    "    r[2:-2]=-A(p,dx) # résidu initial\n",
    "    d=r.copy()       # on choisit comme direction initiale notre résidu initial \n",
    "    d[1]=0.25*d[2]   # on applique les conditions de Neumann sur direction initiale\n",
    "    d[-2]=0.25*d[-3]+0.5*dx+0.75\n",
    "    \n",
    "    while diff>rtol and iterations<maxiter:\n",
    "\n",
    "        pk=p.copy()\n",
    "        rk=r.copy()\n",
    "        Ad[2:-2]=A(d,dx)\n",
    "        #On calcule la taille du pas\n",
    "        alpha=np.sum(r * r)/np.sum(d*Ad)\n",
    "        #On met a jour la solution et le résidu\n",
    "        p=pk+alpha*d\n",
    "        r=rk-alpha*Ad\n",
    "        #On calcule la nouvelle direction\n",
    "        beta=np.sum(r*r) /np.sum(rk*rk)\n",
    "        d=r+beta*d\n",
    "        #On applique les conditions aux bords\n",
    "        d[1]=0.25*d[2]\n",
    "        d[-2]=0.25*d[-3]+0.5*dx+0.75\n",
    "        diff=L2_rel_error(p, pk)\n",
    "        iterations+=1\n",
    "\n",
    "    print('iterations',iterations)\n",
    "    \n",
    "    return p"
   ]
  },
  {
   "cell_type": "code",
   "execution_count": 28,
   "metadata": {},
   "outputs": [
    {
     "name": "stdout",
     "output_type": "stream",
     "text": [
      "iterations 1800\n"
     ]
    },
    {
     "data": {
      "text/plain": [
       "array([0.00000000e+00, 3.98573395e-04, 1.59429358e-03, 3.56391686e-03,\n",
       "       6.28459643e-03, 9.73385561e-03, 1.38895755e-02, 1.87299922e-02,\n",
       "       2.42336767e-02, 3.03795460e-02, 3.71468328e-02, 4.45150871e-02,\n",
       "       5.24641503e-02, 6.09741561e-02, 7.00255259e-02, 7.95989514e-02,\n",
       "       8.96753811e-02, 1.00236025e-01, 1.11262322e-01, 1.22735939e-01,\n",
       "       1.34638755e-01, 1.46952856e-01, 1.59660537e-01, 1.72744269e-01,\n",
       "       1.86186713e-01, 1.99970702e-01, 2.14079240e-01, 2.28495485e-01,\n",
       "       2.43202755e-01, 2.58184496e-01, 2.73424289e-01, 2.88905839e-01,\n",
       "       3.04612948e-01, 3.20529531e-01, 3.36639595e-01, 3.52927236e-01,\n",
       "       3.69376608e-01, 3.85971928e-01, 4.02697470e-01, 4.19537558e-01,\n",
       "       4.36476555e-01, 4.53498856e-01, 4.70588871e-01, 4.87731026e-01,\n",
       "       5.04909750e-01, 5.22109478e-01, 5.39314631e-01, 5.56509612e-01,\n",
       "       5.73678787e-01, 5.90806505e-01, 6.07877067e-01, 6.24874728e-01,\n",
       "       6.41783664e-01, 6.58587983e-01, 6.75271720e-01, 6.91818817e-01,\n",
       "       7.08213120e-01, 7.24438347e-01, 7.40478104e-01, 7.56315867e-01,\n",
       "       7.71934994e-01, 7.87318702e-01, 8.02450059e-01, 8.17311966e-01,\n",
       "       8.31887168e-01, 8.46158238e-01, 8.60107571e-01, 8.73717363e-01,\n",
       "       8.86969602e-01, 8.99846070e-01, 9.12328327e-01, 9.24397693e-01,\n",
       "       9.36035245e-01, 9.47221806e-01, 9.57937939e-01, 9.68163932e-01,\n",
       "       9.77879796e-01, 9.87065235e-01, 9.95699654e-01, 1.00376215e+00,\n",
       "       1.01123149e+00, 1.01808613e+00, 1.02430416e+00, 1.02986331e+00,\n",
       "       1.03474092e+00, 1.03891398e+00, 1.04235909e+00, 1.04505242e+00,\n",
       "       1.04696974e+00, 1.04808637e+00, 1.04837722e+00, 1.04781671e+00,\n",
       "       1.04637881e+00, 1.04403698e+00, 1.04076423e+00, 1.03653303e+00,\n",
       "       1.03131535e+00, 1.02508263e+00, 1.01780572e+00, 1.00945494e+00,\n",
       "       1.00000000e+00])"
      ]
     },
     "execution_count": 28,
     "metadata": {},
     "output_type": "execute_result"
    }
   ],
   "source": [
    "dx=0.01\n",
    "maxiter=20000\n",
    "rtol=1e-8\n",
    "\n",
    "\n",
    "f0= np.zeros(101)  #initial guess\n",
    "f0[100]=1          #on applique les conditions de Dirichlet (f(0)=0 et f(1)=1)\n",
    "f0[99]=0.5*dx+0.75 #on applique les conditions de Neumann (f'(0)=0 et f'(1)=-1)\n",
    "\n",
    "ConjugateGradient(f0,dx,maxiter,rtol)\n"
   ]
  },
  {
   "cell_type": "markdown",
   "metadata": {},
   "source": [
    "On voit que les gradients conjugués nécessitent que 1800, comparé aux 1608704 de Gauss-Seidel ce qui montre que les gradients conjugués convergent plus rapidement."
   ]
  },
  {
   "cell_type": "code",
   "execution_count": 80,
   "metadata": {},
   "outputs": [
    {
     "name": "stdout",
     "output_type": "stream",
     "text": [
      "iterations 1800\n"
     ]
    },
    {
     "data": {
      "text/plain": [
       "<matplotlib.legend.Legend at 0x7f37588>"
      ]
     },
     "execution_count": 80,
     "metadata": {},
     "output_type": "execute_result"
    },
    {
     "data": {
      "image/png": "[encoded data removed]",
      "text/plain": [
       "<Figure size 576x432 with 1 Axes>"
      ]
     },
     "metadata": {
      "needs_background": "light"
     },
     "output_type": "display_data"
    }
   ],
   "source": [
    "y=ConjugateGradient(f0,dx,maxiter,rtol)\n",
    "fig = plt.figure(figsize=(8,6))\n",
    "\n",
    "ax = fig.add_axes([0.1, 0.1, 0.8, 0.8])\n",
    "ax.plot(x, y, lw=4, label='Solutions par gradients conjugués')\n",
    "ax.plot(x, f(x), lw=4, label='Solution analytique')\n",
    "ax.set_xlabel('X')\n",
    "ax.set_ylabel('Y')\n",
    "ax.set_xlim(0,1)\n",
    "ax.set_title('Solutions par gradients conjugués')\n",
    "ax.grid()\n",
    "ax.legend()"
   ]
  },
  {
   "cell_type": "markdown",
   "metadata": {},
   "source": [
    "On voit que les courbes des 2 solutions sont superposées, ce qui indique une très grande précision, plus élevée que Gauss-Seidel"
   ]
  },
  {
   "cell_type": "markdown",
   "metadata": {},
   "source": [
    "On calcule maintenant la norme L2 de la différence entre cette solutions et la solution analytique"
   ]
  },
  {
   "cell_type": "code",
   "execution_count": 31,
   "metadata": {},
   "outputs": [
    {
     "data": {
      "text/plain": [
       "0.00012658580962507133"
      ]
     },
     "execution_count": 31,
     "metadata": {},
     "output_type": "execute_result"
    }
   ],
   "source": [
    "L2_rel_error(y, f(x))"
   ]
  },
  {
   "cell_type": "markdown",
   "metadata": {},
   "source": [
    "On voit que la différence en norme L2 entre notre solution analytique et notre solution est beaucoup plus petite que par Gauss-Seidel, ce qui indique (comme sur le graphe) que la méthode des gradients conjugués est beaucoup plus précise"
   ]
  }
 ],
 "metadata": {
  "kernelspec": {
   "display_name": "Python 3",
   "language": "python",
   "name": "python3"
  },
  "language_info": {
   "codemirror_mode": {
    "name": "ipython",
    "version": 3
   },
   "file_extension": ".py",
   "mimetype": "text/x-python",
   "name": "python",
   "nbconvert_exporter": "python",
   "pygments_lexer": "ipython3",
   "version": "3.7.0"
  }
 },
 "nbformat": 4,
 "nbformat_minor": 2
}
