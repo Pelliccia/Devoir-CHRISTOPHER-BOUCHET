{
 "cells": [
  {
   "cell_type": "markdown",
   "metadata": {},
   "source": [
    "**Question 1**\n",
    "\n",
    "Solution générale: $f=k_1e^{2x}+k_2e^{-2x}+k_3e^{x}+k_4e^{-x}$"
   ]
  },
  {
   "cell_type": "markdown",
   "metadata": {},
   "source": [
    "**Question 2**"
   ]
  },
  {
   "cell_type": "code",
   "execution_count": 1,
   "metadata": {},
   "outputs": [],
   "source": [
    "import numpy as np\n",
    "def ConstantEvaluator(a,b,c,d):\n",
    "    \n",
    "    e=np.exp(1)\n",
    "    e2=np.exp(2)\n",
    "    e3=np.exp(3)\n",
    "    \n",
    "    k1=((1+e+4*e2)*a+(-1-e+2*e2)*b-e*(4+e+e2)*c+e*(-2+e+e2)*d)/((e-1)**3*(1+4*e+e2))\n",
    "   \n",
    "    k2=(e2*(-e*((4+e+e2)*a+(-2+e+e2)*b)+(1+e+4*e2)*c+(1+e-2*e2)*d))/((e-1)**3*(1+4*e+e2))\n",
    "    \n",
    "    k3=(-2*(1+e+e2+e*e3)*a+(1+e+e2-e*e3)*b+2*e*(3+e+e2+e3)*c-e*(-3+e+e2+e3)*d)/((e-1)**3*(1+4*e+e2))\n",
    "    \n",
    "    k4=e*(2*e*(3+e+e2+e3)*a+e*(-3+e+e2+e3)*b-2*(1+e+e2+3*e3)*c+(-1-e-e2+3*e3)*d)/((e-1)**3*(1+4*e+e2))\n",
    "    \n",
    "    out=[]\n",
    "    out.append(k1)\n",
    "    out.append(k2)\n",
    "    out.append(k3)\n",
    "    out.append(k4)\n",
    "    \n",
    "    print('a',k1+k2+k3+k4)\n",
    "    print('b',2*k1-2*k2+k3-k4)\n",
    "    print('c',k1*np.exp(2)+k2*np.exp(-2)+k3*np.exp(1)+k4*np.exp(-1))\n",
    "    print('d',2*k1*np.exp(2)-2*k2*np.exp(-2)+k3*np.exp(1)-k4*np.exp(-1))\n",
    "    \n",
    "    return out"
   ]
  },
  {
   "cell_type": "markdown",
   "metadata": {},
   "source": [
    "**Question 3**"
   ]
  },
  {
   "cell_type": "markdown",
   "metadata": {},
   "source": [
    "On vérifie d'abord la fonction faite à la question précédente avec les valeurs de a,b,c et d."
   ]
  },
  {
   "cell_type": "code",
   "execution_count": 2,
   "metadata": {},
   "outputs": [
    {
     "name": "stdout",
     "output_type": "stream",
     "text": [
      "a 0.0\n",
      "b -8.881784197001252e-16\n",
      "c 0.9999999999999991\n",
      "d -1.0000000000000027\n"
     ]
    },
    {
     "data": {
      "text/plain": [
       "[-0.6179392150241841,\n",
       " 3.352281437944154,\n",
       " 2.6030495415083528,\n",
       " -5.337391764428323]"
      ]
     },
     "execution_count": 2,
     "metadata": {},
     "output_type": "execute_result"
    }
   ],
   "source": [
    "ConstantEvaluator(0,0,1,-1)"
   ]
  },
  {
   "cell_type": "markdown",
   "metadata": {},
   "source": [
    "On voit qu'on obtient des valeurs de a,b,c et d (Temp note for foy:b is a little weird but still reasonably close to 0.0 imo given that the imprecision on b c and are all at about $10^{-16}$)"
   ]
  },
  {
   "cell_type": "code",
   "execution_count": 71,
   "metadata": {},
   "outputs": [
    {
     "name": "stdout",
     "output_type": "stream",
     "text": [
      "a 0.0\n",
      "b -8.881784197001252e-16\n",
      "c 0.9999999999999991\n",
      "d -1.0000000000000027\n",
      "a 0.0\n",
      "b -8.881784197001252e-16\n",
      "c 0.9999999999999991\n",
      "d -1.0000000000000027\n",
      "a 0.0\n",
      "b -8.881784197001252e-16\n",
      "c 0.9999999999999991\n",
      "d -1.0000000000000027\n",
      "a 0.0\n",
      "b -8.881784197001252e-16\n",
      "c 0.9999999999999991\n",
      "d -1.0000000000000027\n"
     ]
    }
   ],
   "source": [
    "%matplotlib inline\n",
    "import matplotlib.pylab as plt\n",
    "\n",
    "k1=ConstantEvaluator(0,0,1,-1)[0]\n",
    "\n",
    "k2=ConstantEvaluator(0,0,1,-1)[1]\n",
    "\n",
    "k3=ConstantEvaluator(0,0,1,-1)[2]\n",
    "\n",
    "k4=ConstantEvaluator(0,0,1,-1)[3]\n",
    "\n",
    "def f(x):\n",
    "    \n",
    "    out=k1*np.exp(2*x)+k2*np.exp(-2*x)+k3*np.exp(x)+k4*np.exp(-x)\n",
    "    \n",
    "    return out"
   ]
  },
  {
   "cell_type": "code",
   "execution_count": 72,
   "metadata": {},
   "outputs": [],
   "source": [
    "xmax=1\n",
    "x= np.linspace(0,xmax,100)\n",
    "y=f(x)"
   ]
  },
  {
   "cell_type": "code",
   "execution_count": 73,
   "metadata": {},
   "outputs": [
    {
     "data": {
      "image/png": "[encoded data removed]",
      "text/plain": [
       "<Figure size 576x432 with 1 Axes>"
      ]
     },
     "metadata": {
      "needs_background": "light"
     },
     "output_type": "display_data"
    }
   ],
   "source": [
    "fig = plt.figure(figsize=(8,6))\n",
    "\n",
    "ax = fig.add_axes([0.1, 0.1, 0.8, 0.8])\n",
    "ax.plot(x, y, lw=4)\n",
    "ax.set_xlabel('X')\n",
    "ax.set_ylabel('Y')\n",
    "ax.set_xlim(0,xmax)\n",
    "ax.grid()"
   ]
  },
  {
   "cell_type": "code",
   "execution_count": 92,
   "metadata": {},
   "outputs": [],
   "source": [
    "def A(f,dx): #Gives linear operator corresponding to our linear ODE\n",
    "    return (f[:-4]-4*f[1:-3]+6*f[2:-2]-4*f[3:-1]+f[4:])/dx**4-5*(f[1:-3]-2*f[2:-2]+f[3:-1])/dx**2+4*f[2:-2]"
   ]
  }
 ],
 "metadata": {
  "kernelspec": {
   "display_name": "Python 3",
   "language": "python",
   "name": "python3"
  },
  "language_info": {
   "codemirror_mode": {
    "name": "ipython",
    "version": 3
   },
   "file_extension": ".py",
   "mimetype": "text/x-python",
   "name": "python",
   "nbconvert_exporter": "python",
   "pygments_lexer": "ipython3",
   "version": "3.7.0"
  }
 },
 "nbformat": 4,
 "nbformat_minor": 2
}
